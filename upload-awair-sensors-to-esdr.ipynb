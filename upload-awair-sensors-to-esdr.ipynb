{
 "cells": [
  {
   "cell_type": "code",
   "execution_count": 1,
   "metadata": {
    "collapsed": true
   },
   "outputs": [],
   "source": [
    "import csv, urllib2, json, datetime, subprocess\n",
    "import dateutil.parser as dp\n",
    "from dateutil import rrule"
   ]
  },
  {
   "cell_type": "code",
   "execution_count": 2,
   "metadata": {
    "collapsed": true
   },
   "outputs": [],
   "source": [
    "awairRoot = 'https://beta-api.awair.is/v1/'"
   ]
  },
  {
   "cell_type": "code",
   "execution_count": 3,
   "metadata": {
    "collapsed": false
   },
   "outputs": [],
   "source": [
    "def exec_ipynb(url):\n",
    "    import json, re, urllib2\n",
    "    nb = (urllib2.urlopen(url) if re.match(r'https?:', url) else open(url)).read()\n",
    "    #had to change this statement for compatibility with the latest version of Jupyter Notebook\n",
    "    exec '\\n'.join([''.join(cell['source']) for cell in json.loads(nb)['cells'] if cell['cell_type'] == 'code']) in globals()\n",
    "\n",
    "exec_ipynb('python-utils/esdr-library.ipynb')"
   ]
  },
  {
   "cell_type": "code",
   "execution_count": 4,
   "metadata": {
    "collapsed": false
   },
   "outputs": [],
   "source": [
    "# First time uploading, create a new client like so:\n",
    "\n",
    "# Esdr.save_client('esdr-auth-awair-uploader.json', 'awair uploader for timemachine1')\n",
    "\n",
    "# and then follow the directions it prints, which include visiting esdr.cmucreatelab.org and creating\n",
    "# a client with given parameters, and also editing esdr-auth-baaqm-uploader.json to include your\n",
    "# username and password\n",
    "\n",
    "# Do not add esdr-auth-baaqm-uploader.json to the git repo"
   ]
  },
  {
   "cell_type": "code",
   "execution_count": 5,
   "metadata": {
    "collapsed": false,
    "scrolled": true
   },
   "outputs": [
    {
     "data": {
      "text/plain": [
       "{u'created': u'2016-05-17T22:08:14.000Z',\n",
       " u'creatorUserId': 1,\n",
       " u'defaultChannelSpecs': {u'channels': {u'pm': {u'prettyName': u'Particle Concentration',\n",
       "    u'range': {u'max': None, u'min': 0},\n",
       "    u'units': u'ug/m^3'}},\n",
       "  u'version': 1},\n",
       " u'description': u'The Awair air quality monitor',\n",
       " u'id': 58,\n",
       " u'modified': u'2016-05-18T13:14:20.000Z',\n",
       " u'name': u'awair',\n",
       " u'prettyName': u'Awair',\n",
       " u'vendor': u'Bitfinder'}"
      ]
     },
     "execution_count": 5,
     "metadata": {},
     "output_type": "execute_result"
    }
   ],
   "source": [
    "esdr = Esdr('esdr-auth-awair-uploader.json')\n",
    "product = esdr.get_or_create_product('awair', 'awair', 'Sensor made by Awair')\n",
    "product"
   ]
  },
  {
   "cell_type": "code",
   "execution_count": 6,
   "metadata": {
    "collapsed": false
   },
   "outputs": [],
   "source": [
    "#parse awair-sensors-metadata.csv for unique API keys\n",
    "def parseForApiKeys(file): \n",
    "    apiKeys = set([])\n",
    "    with open(file, 'rb') as csvfile:\n",
    "        reader = csv.reader(csvfile)\n",
    "        reader.next() #skip the header row\n",
    "        for row in reader:\n",
    "            key = row[6]\n",
    "            if key:\n",
    "                apiKeys.update([key])\n",
    "    return apiKeys\n",
    "#parseForApiKeys('awair-sensors-metadata.csv')"
   ]
  },
  {
   "cell_type": "code",
   "execution_count": 7,
   "metadata": {
    "collapsed": false
   },
   "outputs": [],
   "source": [
    "def parseForDevicesAndStartDates(file):\n",
    "    devices = {}\n",
    "    with open(file, 'rb') as csvfile:\n",
    "        reader = csv.reader(csvfile)\n",
    "        reader.next() #skip the header row\n",
    "        for row in reader:\n",
    "            deviceId = row[5]\n",
    "            if deviceId:\n",
    "                devices[deviceId] = row[1]\n",
    "    return devices"
   ]
  },
  {
   "cell_type": "code",
   "execution_count": 8,
   "metadata": {
    "collapsed": false
   },
   "outputs": [],
   "source": [
    "def getDevicesForAwairUser(apiKey):\n",
    "    url = '%susers/self/devices' % awairRoot\n",
    "    header = 'Authorization: Bearer %s' % apiKey\n",
    "    #using curl because Awair's API requires the latest SSL\n",
    "    output = subprocess.check_output([\"curl\", \"-q\", url,\"-H\",header])\n",
    "    devices = json.loads(output)['data']\n",
    "    return devices"
   ]
  },
  {
   "cell_type": "code",
   "execution_count": 9,
   "metadata": {
    "collapsed": false,
    "scrolled": false
   },
   "outputs": [],
   "source": [
    "def getEsdrFeeds(apiKey):\n",
    "    feeds = {}\n",
    "    devices = getDevicesForAwairUser(apiKey)\n",
    "    for device in devices:\n",
    "        #create an ESDR device and feed for each\n",
    "        awairDeviceId = str(device['device_id'])\n",
    "        esdrDevice = esdr.get_or_create_device(product, awairDeviceId, device['device_name'])\n",
    "        feed = esdr.get_or_create_feed(esdrDevice, device['latitude'], device['longitude'])\n",
    "        feeds[awairDeviceId] = feed\n",
    "    return feeds"
   ]
  },
  {
   "cell_type": "code",
   "execution_count": 10,
   "metadata": {
    "collapsed": true
   },
   "outputs": [],
   "source": [
    "def getEsdrFeedByDevice(awairDeviceId):\n",
    "    esdrDevice = esdr.get_or_create_device(product, awairDeviceId)\n",
    "    feed = esdr.get_or_create_feed(esdrDevice)\n",
    "    return feed"
   ]
  },
  {
   "cell_type": "code",
   "execution_count": 11,
   "metadata": {
    "collapsed": false
   },
   "outputs": [],
   "source": [
    "def fetchAwairData(awairDeviceId,key,start,finish):\n",
    "    url = '%sdevices/%s/events/15min-avg?from=%s&to=%s' % (awairRoot,awairDeviceId,start,finish)\n",
    "    header = 'Authorization: Bearer %s' % key\n",
    "    output = subprocess.check_output([\"curl\", \"-q\", url,\"-H\",header])\n",
    "    data = json.loads(output)['data']\n",
    "    return data"
   ]
  },
  {
   "cell_type": "code",
   "execution_count": 12,
   "metadata": {
    "collapsed": false
   },
   "outputs": [],
   "source": [
    "def isoTimestampToEpochTime(timestamp):\n",
    "    date = datetime.datetime.strptime(timestamp,'%Y-%m-%dT%H:%M:%S.%fZ')\n",
    "    epochTime = (date - datetime.datetime(1970, 1, 1)).total_seconds()\n",
    "    return int(epochTime)\n",
    "#isoTimestampToEpochTime('2016-08-28T23:30:00.000Z')"
   ]
  },
  {
   "cell_type": "code",
   "execution_count": 13,
   "metadata": {
    "collapsed": false
   },
   "outputs": [],
   "source": [
    "def formatAwairData(awairData):\n",
    "    esdrData = {\"channel_names\":[],\"data\":[]}\n",
    "    channels = awairData[0]['sensor'].keys()\n",
    "    esdrData['channel_names'].extend(channels)\n",
    "    for awairDatum in awairData:\n",
    "        esdrDatum = []\n",
    "        esdrDatum.append(isoTimestampToEpochTime(awairDatum['timestamp']))\n",
    "        for prop in awairDatum['sensor']:\n",
    "            esdrDatum.append(awairDatum['sensor'][prop])\n",
    "        esdrData['data'].append(esdrDatum)\n",
    "    return esdrData"
   ]
  },
  {
   "cell_type": "code",
   "execution_count": 14,
   "metadata": {
    "collapsed": false
   },
   "outputs": [],
   "source": [
    "def uploadDate(date):\n",
    "    start = date.replace(hour=0,minute=0,second=0)\n",
    "    finish = (start + datetime.timedelta(hours=24,minutes=5))\n",
    "    print \"fetching data from \" + str(start) + \" to \" + str(finish)\n",
    "    \n",
    "    keys = parseForApiKeys('awair-sensors-metadata.csv')\n",
    "    for key in keys:\n",
    "        feeds = getEsdrFeeds(key)\n",
    "        for feed in feeds:\n",
    "            data = fetchAwairData(feed,key,start.isoformat(),finish.isoformat())\n",
    "            if data:\n",
    "                print \"uploading %s data points to ESDR feed %s \" % (len(data),feeds[feed]['id'])\n",
    "                upload = formatAwairData(data)\n",
    "                esdr.upload(feeds[feed], upload)\n",
    "            else:\n",
    "                print \"no data for feed %s\" % str(feeds[feed]['id'])\n",
    "#date = datetime.datetime(2016, 12, 7)\n",
    "#uploadDate(date)"
   ]
  },
  {
   "cell_type": "code",
   "execution_count": 15,
   "metadata": {
    "collapsed": false
   },
   "outputs": [],
   "source": [
    "def uploadDateForDevice(date, awairDeviceId, key):\n",
    "    start = date.replace(hour=0,minute=0,second=0)\n",
    "    finish = (start + datetime.timedelta(hours=24,minutes=5))\n",
    "    print \"fetching data from \" + str(start) + \" to \" + str(finish) + \" for device with Awair ID \" + str(awairDeviceId)\n",
    "    \n",
    "    feed = getEsdrFeedByDevice(awairDeviceId)\n",
    "    data = fetchAwairData(awairDeviceId,key,start.isoformat(),finish.isoformat())\n",
    "    if data:\n",
    "        print \"uploading %s data points to ESDR feed %s \" % (len(data),feed['id'])\n",
    "        upload = formatAwairData(data)\n",
    "        esdr.upload(feed, upload)\n",
    "    else:\n",
    "        print \"no data for feed %s\" % str(feed['id'])"
   ]
  },
  {
   "cell_type": "code",
   "execution_count": 37,
   "metadata": {
    "collapsed": false
   },
   "outputs": [
    {
     "name": "stdout",
     "output_type": "stream",
     "text": [
      "fetching data from 2016-12-08 00:00:00.284000 to 2016-12-09 00:05:00.284000\n",
      "uploading 91 data points to ESDR feed 7768 \n",
      "uploading 91 data points to ESDR feed 7710 \n",
      "uploading 91 data points to ESDR feed 7711 \n",
      "uploading 91 data points to ESDR feed 7713 \n",
      "uploading 91 data points to ESDR feed 7715 \n",
      "no data for feed 7779\n"
     ]
    }
   ],
   "source": [
    "def dailyUpload():\n",
    "    #upload today\n",
    "    today = datetime.datetime.utcnow()\n",
    "    uploadDate(today)\n",
    "dailyUpload()"
   ]
  },
  {
   "cell_type": "code",
   "execution_count": 21,
   "metadata": {
    "collapsed": false
   },
   "outputs": [],
   "source": [
    "def uploadHistoricData(file, key):\n",
    "    devices = parseForDevicesAndStartDates(file)\n",
    "    for awairId in devices:\n",
    "        startString = devices[awairId]\n",
    "        start = datetime.datetime(int(startString[0:4]),int(startString[5:7]),int(startString[8:10]))\n",
    "        for date in rrule.rrule(rrule.DAILY, start, until=datetime.date.today()):\n",
    "            uploadDateForDevice(date,awairId, key)"
   ]
  }
 ],
 "metadata": {
  "anaconda-cloud": {},
  "kernelspec": {
   "display_name": "Python [default]",
   "language": "python",
   "name": "python2"
  },
  "language_info": {
   "codemirror_mode": {
    "name": "ipython",
    "version": 2
   },
   "file_extension": ".py",
   "mimetype": "text/x-python",
   "name": "python",
   "nbconvert_exporter": "python",
   "pygments_lexer": "ipython2",
   "version": "2.7.12"
  }
 },
 "nbformat": 4,
 "nbformat_minor": 1
}
